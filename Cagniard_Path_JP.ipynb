{
 "cells": [
  {
   "cell_type": "code",
   "execution_count": 1,
   "metadata": {
    "collapsed": true
   },
   "outputs": [],
   "source": [
    "import numpy as np\n",
    "import math\n",
    "import matplotlib.pyplot as plt\n",
    "import time\n",
    "from scipy import interpolate\n",
    "from scipy.optimize import newton_krylov, broyden1, root\n",
    "%matplotlib inline  "
   ]
  },
  {
   "cell_type": "code",
   "execution_count": 15,
   "metadata": {
    "collapsed": false
   },
   "outputs": [],
   "source": [
    "x = 3\n",
    "z = 4\n",
    "R = np.sqrt(x**2+z**2)\n",
    "B = 6"
   ]
  },
  {
   "cell_type": "code",
   "execution_count": 16,
   "metadata": {
    "collapsed": false
   },
   "outputs": [],
   "source": [
    "#Check at t=R/B -> p=x/RB\n",
    "p = complex(x/(R*B),0)\n",
    "w = p.real\n",
    "y = p.imag"
   ]
  },
  {
   "cell_type": "code",
   "execution_count": 5,
   "metadata": {
    "collapsed": true
   },
   "outputs": [],
   "source": [
    "#Check at t>R/B -> p=x/RB + eps\n",
    "p = complex(x/(R*B),0.01)\n",
    "w = p.real\n",
    "y = p.imag"
   ]
  },
  {
   "cell_type": "code",
   "execution_count": 18,
   "metadata": {
    "collapsed": false
   },
   "outputs": [
    {
     "name": "stdout",
     "output_type": "stream",
     "text": [
      "t1:  (0.833333333333+0j)\n",
      "t2:  (0.833333333333-0j)\n",
      "t3:  -2.70947778018j\n",
      "t4:  (0.833333333333+0j)\n"
     ]
    }
   ],
   "source": [
    "t1 = w*x + 1j*y*x + np.sqrt(B**-2 - w**2 - 2*1j*w*y + y**2)*z #works\n",
    "t2 = np.sqrt(((w**2+2*1j*w*y-y**2)*R**4 - (z*R/B)**2)/(x**2-z**2)) #doesn't work\n",
    "t3 = np.sqrt((p*R**4-(z*R/B)**2)/(x**2-z**2)) #REALLY doesn't work\n",
    "t4 = p*x + np.sqrt(B**-2-p**2)*z #works\n",
    "print \"t1: \", t1\n",
    "print \"t2: \", t2\n",
    "print \"t3: \", t3\n",
    "print \"t4: \", t4"
   ]
  },
  {
   "cell_type": "code",
   "execution_count": 7,
   "metadata": {
    "collapsed": false
   },
   "outputs": [
    {
     "name": "stdout",
     "output_type": "stream",
     "text": [
      "(0.1+0j)\n",
      "0.833333333333\n"
     ]
    }
   ],
   "source": [
    "#Take t=R/B + eps, find a valid p\n",
    "t = R/B \n",
    "p = (x*t + 1j*z*np.sqrt(t**2-(R/B)**2))/R**2\n",
    "print p\n",
    "print t\n",
    "w = p.real\n",
    "y = p.imag"
   ]
  },
  {
   "cell_type": "markdown",
   "metadata": {},
   "source": [
    "# Method 1\n",
    "\n",
    "Eq. (6.50) gives p(t) for $t\\geq \\frac R \\beta$. Just use that up to a max t value."
   ]
  },
  {
   "cell_type": "code",
   "execution_count": 2,
   "metadata": {
    "collapsed": true
   },
   "outputs": [],
   "source": [
    "#Method 1: grid real t, find p values using (6.50)\n",
    "def p_from_t(x, z, B, tmax):\n",
    "    R = np.sqrt(x**2+z**2)\n",
    "    t = np.linspace(R/B,tmax,1000)\n",
    "    p = (x*t + 1j*z*np.sqrt(t**2-(R/B)**2))/R**2\n",
    "    return p"
   ]
  },
  {
   "cell_type": "code",
   "execution_count": 3,
   "metadata": {
    "collapsed": false
   },
   "outputs": [
    {
     "name": "stdout",
     "output_type": "stream",
     "text": [
      "comp time:  0.0557191371918 s\n"
     ]
    },
    {
     "data": {
      "image/png": "[encoded data removed]",
      "text/plain": [
       "<matplotlib.figure.Figure at 0x7f38782d6f10>"
      ]
     },
     "metadata": {},
     "output_type": "display_data"
    }
   ],
   "source": [
    "ts = time.time()\n",
    "p1 = p_from_t(3,4,9,10)\n",
    "fig = plt.figure(figsize=(3, 3))\n",
    "ax = fig.add_subplot(1, 1, 1)\n",
    "ax.plot(p1.real,p1.imag)\n",
    "tf = time.time()-ts\n",
    "print \"comp time: \", tf, \"s\"\n",
    "ax.set_xlabel(\"Re p\")\n",
    "ax.set_ylabel(\"Im p\")\n",
    "plt.show()"
   ]
  },
  {
   "cell_type": "markdown",
   "metadata": {},
   "source": [
    "# Method 2\n",
    "\n",
    "Eq. (6.49) gives $t(p) = px + \\eta |z|$ and we know $\\eta = \\sqrt{\\beta^{-2}-p^2}$. Thus, $t = px+\\sqrt{\\beta^{-2}-p^2}|z|$.\n",
    "\n",
    "We can take $p = w+i y$ to find t in terms of Re p and Im P coordinates, which we can then grid and search. We know $p=\\frac{x}{R\\beta}$ at $t=\\frac R \\beta$. Start there and examine a small grid in the p plane to find the direction of max increasing real t."
   ]
  },
  {
   "cell_type": "markdown",
   "metadata": {},
   "source": [
    "# plot the whole quadrant and compare p contours "
   ]
  },
  {
   "cell_type": "code",
   "execution_count": 6,
   "metadata": {
    "collapsed": false
   },
   "outputs": [],
   "source": [
    "def t_from_p(x, zs, B, tmax):\n",
    "    z = zs[0]\n",
    "    h = zs[1]\n",
    "    R = np.sqrt(x**2+(2*z-h)**2)\n",
    "    print \"p takeoff\", x/(R*B[0])\n",
    "    t = [0]\n",
    "    p = [0*1j]\n",
    "    \n",
    "    def t_direct(p1):\n",
    "        return p1*x + np.sqrt(B[0]**(-2)-p1**2)*z                     \n",
    "    def t_reflect(p1):\n",
    "        #calc t vector from p\n",
    "        return p1*x+(z-h)*np.sqrt(1/B[0]**2-p1**2) + (z)*np.sqrt(1/B[0]**2-p1**2);\n",
    "    \n",
    "    while t[-1] < tmax:\n",
    "#     step=0\n",
    "#     while step < steps:\n",
    "        w0 = p[-1].real\n",
    "        y0 = p[-1].imag\n",
    "        coords = []\n",
    "        for n in range(1,20):\n",
    "            for m in range(1,20):\n",
    "                w = w0 + n*.00003\n",
    "                y = y0 + m*.00003\n",
    "                coords.append((w,y))\n",
    "        tvals = [t_reflect(complex(*coord)) for coord in coords]\n",
    "#         tnew = max([tv for tv in tvals if (abs(tv.imag)-y0)<.15])\n",
    "#         t_ind = np.argmax([abs(tv) for tv in tvals])\n",
    "        t_ind = np.argmax([tv.real for tv in tvals if (tv.imag-y0*.8)<.25])\n",
    "#         t_ind = tvals.index(tnew)\n",
    "        t.append(tvals[t_ind].real)\n",
    "        p.append(complex(*coords[t_ind]))\n",
    "#         step+=1\n",
    "    \n",
    "#     p0 = np.linspace(0,x/(R*B[0])-.00005,250)\n",
    "#     t[:0] = t_reflect(p0)\n",
    "#     p[:0] = p0\n",
    "    \n",
    "    return t, np.array(p)"
   ]
  },
  {
   "cell_type": "code",
   "execution_count": 8,
   "metadata": {
    "collapsed": false
   },
   "outputs": [
    {
     "name": "stdout",
     "output_type": "stream",
     "text": [
      "p takeoff 0.321097539182\n"
     ]
    },
    {
     "ename": "ValueError",
     "evalue": "attempt to get argmax of an empty sequence",
     "output_type": "error",
     "traceback": [
      "\u001b[0;31m---------------------------------------------------------------------------\u001b[0m",
      "\u001b[0;31mValueError\u001b[0m                                Traceback (most recent call last)",
      "\u001b[0;32m<ipython-input-8-0dd3d092f399>\u001b[0m in \u001b[0;36m<module>\u001b[0;34m()\u001b[0m\n\u001b[1;32m      6\u001b[0m \u001b[0mbeta\u001b[0m \u001b[0;34m=\u001b[0m \u001b[0;36m3.5\u001b[0m\u001b[0;34m\u001b[0m\u001b[0m\n\u001b[1;32m      7\u001b[0m \u001b[0mts\u001b[0m \u001b[0;34m=\u001b[0m \u001b[0mtime\u001b[0m\u001b[0;34m.\u001b[0m\u001b[0mtime\u001b[0m\u001b[0;34m(\u001b[0m\u001b[0;34m)\u001b[0m\u001b[0;34m\u001b[0m\u001b[0m\n\u001b[0;32m----> 8\u001b[0;31m \u001b[0mt2\u001b[0m\u001b[0;34m,\u001b[0m \u001b[0mp2\u001b[0m \u001b[0;34m=\u001b[0m \u001b[0mt_from_p\u001b[0m\u001b[0;34m(\u001b[0m\u001b[0mx\u001b[0m\u001b[0;34m,\u001b[0m\u001b[0;34m[\u001b[0m\u001b[0mz\u001b[0m\u001b[0;34m,\u001b[0m \u001b[0mh\u001b[0m\u001b[0;34m]\u001b[0m\u001b[0;34m,\u001b[0m\u001b[0;34m[\u001b[0m\u001b[0;36m2.5\u001b[0m\u001b[0;34m,\u001b[0m \u001b[0;36m3.5\u001b[0m\u001b[0;34m]\u001b[0m\u001b[0;34m,\u001b[0m\u001b[0;36m55\u001b[0m\u001b[0;34m)\u001b[0m\u001b[0;34m\u001b[0m\u001b[0m\n\u001b[0m\u001b[1;32m      9\u001b[0m \u001b[0mtf\u001b[0m \u001b[0;34m=\u001b[0m \u001b[0mtime\u001b[0m\u001b[0;34m.\u001b[0m\u001b[0mtime\u001b[0m\u001b[0;34m(\u001b[0m\u001b[0;34m)\u001b[0m\u001b[0;34m-\u001b[0m\u001b[0mts\u001b[0m\u001b[0;34m\u001b[0m\u001b[0m\n\u001b[1;32m     10\u001b[0m \u001b[0;32mprint\u001b[0m \u001b[0;34m\"comp time: \"\u001b[0m\u001b[0;34m,\u001b[0m \u001b[0mtf\u001b[0m\u001b[0;34m,\u001b[0m \u001b[0;34m\"s\"\u001b[0m\u001b[0;34m\u001b[0m\u001b[0m\n",
      "\u001b[0;32m<ipython-input-6-b0271d3e8744>\u001b[0m in \u001b[0;36mt_from_p\u001b[0;34m(x, zs, B, tmax)\u001b[0m\n\u001b[1;32m     27\u001b[0m \u001b[0;31m#         tnew = max([tv for tv in tvals if (abs(tv.imag)-y0)<.15])\u001b[0m\u001b[0;34m\u001b[0m\u001b[0;34m\u001b[0m\u001b[0m\n\u001b[1;32m     28\u001b[0m \u001b[0;31m#         t_ind = np.argmax([abs(tv) for tv in tvals])\u001b[0m\u001b[0;34m\u001b[0m\u001b[0;34m\u001b[0m\u001b[0m\n\u001b[0;32m---> 29\u001b[0;31m         \u001b[0mt_ind\u001b[0m \u001b[0;34m=\u001b[0m \u001b[0mnp\u001b[0m\u001b[0;34m.\u001b[0m\u001b[0margmax\u001b[0m\u001b[0;34m(\u001b[0m\u001b[0;34m[\u001b[0m\u001b[0mtv\u001b[0m\u001b[0;34m.\u001b[0m\u001b[0mreal\u001b[0m \u001b[0;32mfor\u001b[0m \u001b[0mtv\u001b[0m \u001b[0;32min\u001b[0m \u001b[0mtvals\u001b[0m \u001b[0;32mif\u001b[0m \u001b[0;34m(\u001b[0m\u001b[0mtv\u001b[0m\u001b[0;34m.\u001b[0m\u001b[0mimag\u001b[0m\u001b[0;34m-\u001b[0m\u001b[0my0\u001b[0m\u001b[0;34m*\u001b[0m\u001b[0;36m.8\u001b[0m\u001b[0;34m)\u001b[0m\u001b[0;34m<\u001b[0m\u001b[0;36m.25\u001b[0m\u001b[0;34m]\u001b[0m\u001b[0;34m)\u001b[0m\u001b[0;34m\u001b[0m\u001b[0m\n\u001b[0m\u001b[1;32m     30\u001b[0m \u001b[0;31m#         t_ind = tvals.index(tnew)\u001b[0m\u001b[0;34m\u001b[0m\u001b[0;34m\u001b[0m\u001b[0m\n\u001b[1;32m     31\u001b[0m         \u001b[0mt\u001b[0m\u001b[0;34m.\u001b[0m\u001b[0mappend\u001b[0m\u001b[0;34m(\u001b[0m\u001b[0mtvals\u001b[0m\u001b[0;34m[\u001b[0m\u001b[0mt_ind\u001b[0m\u001b[0;34m]\u001b[0m\u001b[0;34m.\u001b[0m\u001b[0mreal\u001b[0m\u001b[0;34m)\u001b[0m\u001b[0;34m\u001b[0m\u001b[0m\n",
      "\u001b[0;32m/home/jes/anaconda2/lib/python2.7/site-packages/numpy/core/fromnumeric.pyc\u001b[0m in \u001b[0;36margmax\u001b[0;34m(a, axis, out)\u001b[0m\n\u001b[1;32m    965\u001b[0m         \u001b[0margmax\u001b[0m \u001b[0;34m=\u001b[0m \u001b[0ma\u001b[0m\u001b[0;34m.\u001b[0m\u001b[0margmax\u001b[0m\u001b[0;34m\u001b[0m\u001b[0m\n\u001b[1;32m    966\u001b[0m     \u001b[0;32mexcept\u001b[0m \u001b[0mAttributeError\u001b[0m\u001b[0;34m:\u001b[0m\u001b[0;34m\u001b[0m\u001b[0m\n\u001b[0;32m--> 967\u001b[0;31m         \u001b[0;32mreturn\u001b[0m \u001b[0m_wrapit\u001b[0m\u001b[0;34m(\u001b[0m\u001b[0ma\u001b[0m\u001b[0;34m,\u001b[0m \u001b[0;34m'argmax'\u001b[0m\u001b[0;34m,\u001b[0m \u001b[0maxis\u001b[0m\u001b[0;34m,\u001b[0m \u001b[0mout\u001b[0m\u001b[0;34m)\u001b[0m\u001b[0;34m\u001b[0m\u001b[0m\n\u001b[0m\u001b[1;32m    968\u001b[0m     \u001b[0;32mreturn\u001b[0m \u001b[0margmax\u001b[0m\u001b[0;34m(\u001b[0m\u001b[0maxis\u001b[0m\u001b[0;34m,\u001b[0m \u001b[0mout\u001b[0m\u001b[0;34m)\u001b[0m\u001b[0;34m\u001b[0m\u001b[0m\n\u001b[1;32m    969\u001b[0m \u001b[0;34m\u001b[0m\u001b[0m\n",
      "\u001b[0;32m/home/jes/anaconda2/lib/python2.7/site-packages/numpy/core/fromnumeric.pyc\u001b[0m in \u001b[0;36m_wrapit\u001b[0;34m(obj, method, *args, **kwds)\u001b[0m\n\u001b[1;32m     46\u001b[0m     \u001b[0;32mexcept\u001b[0m \u001b[0mAttributeError\u001b[0m\u001b[0;34m:\u001b[0m\u001b[0;34m\u001b[0m\u001b[0m\n\u001b[1;32m     47\u001b[0m         \u001b[0mwrap\u001b[0m \u001b[0;34m=\u001b[0m \u001b[0mNone\u001b[0m\u001b[0;34m\u001b[0m\u001b[0m\n\u001b[0;32m---> 48\u001b[0;31m     \u001b[0mresult\u001b[0m \u001b[0;34m=\u001b[0m \u001b[0mgetattr\u001b[0m\u001b[0;34m(\u001b[0m\u001b[0masarray\u001b[0m\u001b[0;34m(\u001b[0m\u001b[0mobj\u001b[0m\u001b[0;34m)\u001b[0m\u001b[0;34m,\u001b[0m \u001b[0mmethod\u001b[0m\u001b[0;34m)\u001b[0m\u001b[0;34m(\u001b[0m\u001b[0;34m*\u001b[0m\u001b[0margs\u001b[0m\u001b[0;34m,\u001b[0m \u001b[0;34m**\u001b[0m\u001b[0mkwds\u001b[0m\u001b[0;34m)\u001b[0m\u001b[0;34m\u001b[0m\u001b[0m\n\u001b[0m\u001b[1;32m     49\u001b[0m     \u001b[0;32mif\u001b[0m \u001b[0mwrap\u001b[0m\u001b[0;34m:\u001b[0m\u001b[0;34m\u001b[0m\u001b[0m\n\u001b[1;32m     50\u001b[0m         \u001b[0;32mif\u001b[0m \u001b[0;32mnot\u001b[0m \u001b[0misinstance\u001b[0m\u001b[0;34m(\u001b[0m\u001b[0mresult\u001b[0m\u001b[0;34m,\u001b[0m \u001b[0mmu\u001b[0m\u001b[0;34m.\u001b[0m\u001b[0mndarray\u001b[0m\u001b[0;34m)\u001b[0m\u001b[0;34m:\u001b[0m\u001b[0;34m\u001b[0m\u001b[0m\n",
      "\u001b[0;31mValueError\u001b[0m: attempt to get argmax of an empty sequence"
     ]
    }
   ],
   "source": [
    "z = 30\n",
    "x = 70\n",
    "h=8\n",
    "R = np.sqrt(x**2+(2*z-h)**2)\n",
    "beta0 = 2.5\n",
    "beta = 3.5\n",
    "ts = time.time()\n",
    "t2, p2 = t_from_p(x,[z, h],[2.5, 3.5],55)\n",
    "tf = time.time()-ts\n",
    "print \"comp time: \", tf, \"s\"\n",
    "fig, ax = plt.subplots(1, 2, figsize = (6,3))\n",
    "# axs = [[0, 1], [0, 2]]\n",
    "ax[0].plot(p2.real,p2.imag)\n",
    "ax[0].set_xlabel(\"Re p\")\n",
    "ax[0].set_ylabel(\"Im p\")\n",
    "ax[0].set_xlim([.25, .45])\n",
    "js = np.arcsin(x/R)\n",
    "y = np.linspace(0,.15,10)\n",
    "x2 = y*np.tan(js)\n",
    "ax[0].plot(x2,y)\n",
    "\n",
    "#interpolate p(t) to regular t increment \n",
    "dt = .01\n",
    "f=interpolate.interp1d(t2,p2);\n",
    "xi=np.arange(t2[0],t2[-1],dt);\n",
    "yi = f(xi)\n",
    "dpdt=np.diff(yi)/0.01;\n",
    "u=np.imag(dpdt*yi[:-1]**1.5/np.sqrt(1/2.5**2-yi[:-1]**2));\n",
    "ax[1].plot(xi[:-1],u)\n",
    "# ax[1].plot(np.diff(p2)/(np.diff(t2)+.0000001))\n",
    "# ax[1].set_xlim([200, 300])\n",
    "\n",
    "# Refection coefficient\n",
    "rho0=2.0;\n",
    "rho=2.7;\n",
    "mu0=(beta0*1.e05)**2*rho0;\n",
    "mu=(beta*1.e05)**2*rho;\n",
    "Re=(mu0*np.sqrt(1/beta0**2-yi[:-1]**2)-mu*np.sqrt(1/beta**2-yi[:-1]**2)\n",
    "  )/(mu0*np.sqrt(1/beta0**2-yi[:-1]**2)+mu*np.sqrt(1/beta**2-yi[:-1]**2));\n",
    "u2=np.imag(Re*dpdt*yi[:-1]**1.5/np.sqrt(1/beta0**2-yi[:-1]**2));\n",
    "\n",
    "ax[1].plot(xi[:-1],-1*u2)\n",
    "ax[1].set_xlim([25, 50])\n",
    "\n",
    "plt.show()"
   ]
  },
  {
   "cell_type": "code",
   "execution_count": 48,
   "metadata": {
    "collapsed": false
   },
   "outputs": [
    {
     "data": {
      "text/plain": [
       "45.084808971537186"
      ]
     },
     "execution_count": 48,
     "metadata": {},
     "output_type": "execute_result"
    }
   ],
   "source": [
    "R/beta0"
   ]
  },
  {
   "cell_type": "markdown",
   "metadata": {
    "collapsed": true
   },
   "source": [
    "# Try a non-linear solver approach for consistent steps in t"
   ]
  },
  {
   "cell_type": "code",
   "execution_count": 58,
   "metadata": {
    "collapsed": false
   },
   "outputs": [
    {
     "ename": "OverflowError",
     "evalue": "(34, 'Numerical result out of range')",
     "output_type": "error",
     "traceback": [
      "\u001b[0;31m---------------------------------------------------------------------------\u001b[0m",
      "\u001b[0;31mOverflowError\u001b[0m                             Traceback (most recent call last)",
      "\u001b[0;32m<ipython-input-58-f72362829131>\u001b[0m in \u001b[0;36m<module>\u001b[0;34m()\u001b[0m\n\u001b[1;32m     11\u001b[0m     \u001b[0;32mreturn\u001b[0m \u001b[0;34m[\u001b[0m\u001b[0;34m[\u001b[0m\u001b[0mp2\u001b[0m\u001b[0;34m.\u001b[0m\u001b[0mreal\u001b[0m\u001b[0;34m,\u001b[0m\u001b[0mp2\u001b[0m\u001b[0;34m.\u001b[0m\u001b[0mimag\u001b[0m\u001b[0;34m]\u001b[0m \u001b[0;32mfor\u001b[0m \u001b[0mp2\u001b[0m \u001b[0;32min\u001b[0m \u001b[0mzrs\u001b[0m\u001b[0;34m]\u001b[0m\u001b[0;34m\u001b[0m\u001b[0m\n\u001b[1;32m     12\u001b[0m \u001b[0mx0\u001b[0m \u001b[0;34m=\u001b[0m \u001b[0mnp\u001b[0m\u001b[0;34m.\u001b[0m\u001b[0mzeros\u001b[0m\u001b[0;34m(\u001b[0m\u001b[0;34m(\u001b[0m\u001b[0mlen\u001b[0m\u001b[0;34m(\u001b[0m\u001b[0mtimes\u001b[0m\u001b[0;34m)\u001b[0m\u001b[0;34m,\u001b[0m\u001b[0;36m2\u001b[0m\u001b[0;34m)\u001b[0m\u001b[0;34m,\u001b[0m \u001b[0mfloat\u001b[0m\u001b[0;34m)\u001b[0m\u001b[0;34m\u001b[0m\u001b[0m\n\u001b[0;32m---> 13\u001b[0;31m \u001b[0msol\u001b[0m \u001b[0;34m=\u001b[0m \u001b[0mbroyden1\u001b[0m\u001b[0;34m(\u001b[0m\u001b[0mtf_reals\u001b[0m\u001b[0;34m,\u001b[0m\u001b[0mx0\u001b[0m\u001b[0;34m)\u001b[0m\u001b[0;34m\u001b[0m\u001b[0m\n\u001b[0m",
      "\u001b[0;32m/home/jes/anaconda2/lib/python2.7/site-packages/scipy/optimize/nonlin.py\u001b[0m in \u001b[0;36mbroyden1\u001b[0;34m(F, xin, iter, alpha, reduction_method, max_rank, verbose, maxiter, f_tol, f_rtol, x_tol, x_rtol, tol_norm, line_search, callback, **kw)\u001b[0m\n",
      "\u001b[0;32m/home/jes/anaconda2/lib/python2.7/site-packages/scipy/optimize/nonlin.py\u001b[0m in \u001b[0;36mnonlin_solve\u001b[0;34m(F, x0, jacobian, iter, verbose, maxiter, f_tol, f_rtol, x_tol, x_rtol, tol_norm, line_search, callback, full_output, raise_exception)\u001b[0m\n\u001b[1;32m    320\u001b[0m         \u001b[0;32mif\u001b[0m \u001b[0mline_search\u001b[0m\u001b[0;34m:\u001b[0m\u001b[0;34m\u001b[0m\u001b[0m\n\u001b[1;32m    321\u001b[0m             s, x, Fx, Fx_norm_new = _nonlin_line_search(func, x, Fx, dx,\n\u001b[0;32m--> 322\u001b[0;31m                                                         line_search)\n\u001b[0m\u001b[1;32m    323\u001b[0m         \u001b[0;32melse\u001b[0m\u001b[0;34m:\u001b[0m\u001b[0;34m\u001b[0m\u001b[0m\n\u001b[1;32m    324\u001b[0m             \u001b[0ms\u001b[0m \u001b[0;34m=\u001b[0m \u001b[0;36m1.0\u001b[0m\u001b[0;34m\u001b[0m\u001b[0m\n",
      "\u001b[0;32m/home/jes/anaconda2/lib/python2.7/site-packages/scipy/optimize/nonlin.py\u001b[0m in \u001b[0;36m_nonlin_line_search\u001b[0;34m(func, x, Fx, dx, search_type, rdiff, smin)\u001b[0m\n\u001b[1;32m    398\u001b[0m     \u001b[0;32melif\u001b[0m \u001b[0msearch_type\u001b[0m \u001b[0;34m==\u001b[0m \u001b[0;34m'armijo'\u001b[0m\u001b[0;34m:\u001b[0m\u001b[0;34m\u001b[0m\u001b[0m\n\u001b[1;32m    399\u001b[0m         s, phi1 = scalar_search_armijo(phi, tmp_phi[0], -tmp_phi[0],\n\u001b[0;32m--> 400\u001b[0;31m                                        amin=smin)\n\u001b[0m\u001b[1;32m    401\u001b[0m \u001b[0;34m\u001b[0m\u001b[0m\n\u001b[1;32m    402\u001b[0m     \u001b[0;32mif\u001b[0m \u001b[0ms\u001b[0m \u001b[0;32mis\u001b[0m \u001b[0mNone\u001b[0m\u001b[0;34m:\u001b[0m\u001b[0;34m\u001b[0m\u001b[0m\n",
      "\u001b[0;32m/home/jes/anaconda2/lib/python2.7/site-packages/scipy/optimize/linesearch.py\u001b[0m in \u001b[0;36mscalar_search_armijo\u001b[0;34m(phi, phi0, derphi0, c1, alpha0, amin)\u001b[0m\n\u001b[1;32m    657\u001b[0m         \u001b[0mb\u001b[0m \u001b[0;34m=\u001b[0m \u001b[0mb\u001b[0m \u001b[0;34m/\u001b[0m \u001b[0mfactor\u001b[0m\u001b[0;34m\u001b[0m\u001b[0m\n\u001b[1;32m    658\u001b[0m \u001b[0;34m\u001b[0m\u001b[0m\n\u001b[0;32m--> 659\u001b[0;31m         \u001b[0malpha2\u001b[0m \u001b[0;34m=\u001b[0m \u001b[0;34m(\u001b[0m\u001b[0;34m-\u001b[0m\u001b[0mb\u001b[0m \u001b[0;34m+\u001b[0m \u001b[0mnp\u001b[0m\u001b[0;34m.\u001b[0m\u001b[0msqrt\u001b[0m\u001b[0;34m(\u001b[0m\u001b[0mabs\u001b[0m\u001b[0;34m(\u001b[0m\u001b[0mb\u001b[0m\u001b[0;34m**\u001b[0m\u001b[0;36m2\u001b[0m \u001b[0;34m-\u001b[0m \u001b[0;36m3\u001b[0m \u001b[0;34m*\u001b[0m \u001b[0ma\u001b[0m \u001b[0;34m*\u001b[0m \u001b[0mderphi0\u001b[0m\u001b[0;34m)\u001b[0m\u001b[0;34m)\u001b[0m\u001b[0;34m)\u001b[0m \u001b[0;34m/\u001b[0m \u001b[0;34m(\u001b[0m\u001b[0;36m3.0\u001b[0m\u001b[0;34m*\u001b[0m\u001b[0ma\u001b[0m\u001b[0;34m)\u001b[0m\u001b[0;34m\u001b[0m\u001b[0m\n\u001b[0m\u001b[1;32m    660\u001b[0m         \u001b[0mphi_a2\u001b[0m \u001b[0;34m=\u001b[0m \u001b[0mphi\u001b[0m\u001b[0;34m(\u001b[0m\u001b[0malpha2\u001b[0m\u001b[0;34m)\u001b[0m\u001b[0;34m\u001b[0m\u001b[0m\n\u001b[1;32m    661\u001b[0m \u001b[0;34m\u001b[0m\u001b[0m\n",
      "\u001b[0;31mOverflowError\u001b[0m: (34, 'Numerical result out of range')"
     ]
    }
   ],
   "source": [
    "#Define t function of p to equal zero for solver\n",
    "x = 3\n",
    "z = 6\n",
    "B = 9\n",
    "R = np.sqrt(x**2+z**2)\n",
    "stop = 1\n",
    "times = np.linspace(0,stop,stop/0.001)\n",
    "def tf_reals(p1):\n",
    "    p = np.array([complex(*pair) for pair in p1])\n",
    "    zrs = p*x + np.sqrt(B**-2-p**2)*z - times\n",
    "    return [[p2.real,p2.imag] for p2 in zrs]\n",
    "x0 = np.zeros((len(times),2), float)\n",
    "sol = broyden1(tf_reals,x0)"
   ]
  },
  {
   "cell_type": "code",
   "execution_count": 59,
   "metadata": {
    "collapsed": false
   },
   "outputs": [
    {
     "data": {
      "text/plain": [
       "array([[ -9.93807912e-02,   1.33700662e-08],\n",
       "       [ -9.82520233e-02,   4.89971012e-08],\n",
       "       [ -9.70741162e-02,  -5.52721718e-08],\n",
       "       [ -9.58470080e-02,  -6.82932502e-08]])"
      ]
     },
     "execution_count": 59,
     "metadata": {},
     "output_type": "execute_result"
    }
   ],
   "source": [
    "sol"
   ]
  },
  {
   "cell_type": "code",
   "execution_count": 50,
   "metadata": {
    "collapsed": false
   },
   "outputs": [
    {
     "data": {
      "text/plain": [
       "array([ 0.66666667+0.j,  0.65010320+0.j,  0.63353973+0.j,  0.61697627+0.j])"
      ]
     },
     "execution_count": 50,
     "metadata": {},
     "output_type": "execute_result"
    }
   ],
   "source": [
    "p1 = x0\n",
    "p = np.array([complex(*pair) for pair in p1])\n",
    "p*x + np.sqrt(B**-2-p**2)*z - times"
   ]
  },
  {
   "cell_type": "markdown",
   "metadata": {},
   "source": [
    "# Set steps in T and Im(p), then maybe the solver can work "
   ]
  },
  {
   "cell_type": "code",
   "execution_count": 17,
   "metadata": {
    "collapsed": false
   },
   "outputs": [
    {
     "name": "stdout",
     "output_type": "stream",
     "text": [
      "0.7453559925\n",
      "0.0\n",
      "(-0.0062265663576-0.00037546832658j)\n"
     ]
    }
   ],
   "source": [
    "x,z,B = (3,6,9)\n",
    "# def t_Imp_steps(x,z,B):\n",
    "R = np.sqrt(x**2+z**2)\n",
    "print R/B\n",
    "t = [R/B]\n",
    "p = [x/(R*B)+0*1j]\n",
    "\n",
    "ip = p[-1].imag\n",
    "tn = t[-1]\n",
    "#Define a residual function in only ip\n",
    "def t_func(rp):\n",
    "    p1 = complex(rp,ip)\n",
    "    return p1*x + np.sqrt(B**-2-p1**2)*z - tn\n",
    "print t_func(p[-1].real).real\n",
    "\n",
    "#Step in im(p)\n",
    "ip += .01\n",
    "tn += .01\n",
    "relp = fsolve(t_func, p[-1].real)\n",
    "print t_func(relp)"
   ]
  },
  {
   "cell_type": "code",
   "execution_count": 1,
   "metadata": {
    "collapsed": false
   },
   "outputs": [
    {
     "name": "stdout",
     "output_type": "stream",
     "text": [
      "(4.4508396968012676e-11, -1.0512035686360832e-11)\n"
     ]
    }
   ],
   "source": [
    "from scipy.optimize import fsolve\n",
    "import math\n",
    "\n",
    "def equations(p):\n",
    "    x, y = p\n",
    "    return (x+y**2-4, math.exp(x) + x*y - 3)\n",
    "\n",
    "x, y =  fsolve(equations, (1, 1))\n",
    "\n",
    "print equations((x, y))"
   ]
  }
 ],
 "metadata": {
  "kernelspec": {
   "display_name": "Python 2",
   "language": "python",
   "name": "python2"
  },
  "language_info": {
   "codemirror_mode": {
    "name": "ipython",
    "version": 2
   },
   "file_extension": ".py",
   "mimetype": "text/x-python",
   "name": "python",
   "nbconvert_exporter": "python",
   "pygments_lexer": "ipython2",
   "version": "2.7.11"
  }
 },
 "nbformat": 4,
 "nbformat_minor": 0
}
