{
 "cells": [
  {
   "cell_type": "code",
   "execution_count": 1,
   "metadata": {
    "collapsed": true
   },
   "outputs": [],
   "source": [
    "import numpy as np\n",
    "import math\n",
    "import matplotlib.pyplot as plt\n",
    "import time\n",
    "%matplotlib inline  "
   ]
  },
  {
   "cell_type": "code",
   "execution_count": 15,
   "metadata": {
    "collapsed": false
   },
   "outputs": [],
   "source": [
    "x = 3\n",
    "z = 4\n",
    "R = np.sqrt(x**2+z**2)\n",
    "B = 6"
   ]
  },
  {
   "cell_type": "code",
   "execution_count": 16,
   "metadata": {
    "collapsed": false
   },
   "outputs": [],
   "source": [
    "#Check at t=R/B -> p=x/RB\n",
    "p = complex(x/(R*B),0)\n",
    "w = p.real\n",
    "y = p.imag"
   ]
  },
  {
   "cell_type": "code",
   "execution_count": 5,
   "metadata": {
    "collapsed": true
   },
   "outputs": [],
   "source": [
    "#Check at t>R/B -> p=x/RB + eps\n",
    "p = complex(x/(R*B),0.01)\n",
    "w = p.real\n",
    "y = p.imag"
   ]
  },
  {
   "cell_type": "code",
   "execution_count": 18,
   "metadata": {
    "collapsed": false
   },
   "outputs": [
    {
     "name": "stdout",
     "output_type": "stream",
     "text": [
      "t1:  (0.833333333333+0j)\n",
      "t2:  (0.833333333333-0j)\n",
      "t3:  -2.70947778018j\n",
      "t4:  (0.833333333333+0j)\n"
     ]
    }
   ],
   "source": [
    "t1 = w*x + 1j*y*x + np.sqrt(B**-2 - w**2 - 2*1j*w*y + y**2)*z #works\n",
    "t2 = np.sqrt(((w**2+2*1j*w*y-y**2)*R**4 - (z*R/B)**2)/(x**2-z**2)) #doesn't work\n",
    "t3 = np.sqrt((p*R**4-(z*R/B)**2)/(x**2-z**2)) #REALLY doesn't work\n",
    "t4 = p*x + np.sqrt(B**-2-p**2)*z #works\n",
    "print \"t1: \", t1\n",
    "print \"t2: \", t2\n",
    "print \"t3: \", t3\n",
    "print \"t4: \", t4"
   ]
  },
  {
   "cell_type": "code",
   "execution_count": 7,
   "metadata": {
    "collapsed": false
   },
   "outputs": [
    {
     "name": "stdout",
     "output_type": "stream",
     "text": [
      "(0.1+0j)\n",
      "0.833333333333\n"
     ]
    }
   ],
   "source": [
    "#Take t=R/B + eps, find a valid p\n",
    "t = R/B \n",
    "p = (x*t + 1j*z*np.sqrt(t**2-(R/B)**2))/R**2\n",
    "print p\n",
    "print t\n",
    "w = p.real\n",
    "y = p.imag"
   ]
  },
  {
   "cell_type": "markdown",
   "metadata": {},
   "source": [
    "# Method 1\n",
    "\n",
    "Eq. (6.50) gives p(t) for $t\\geq \\frac R \\beta$. Just use that up to a max t value."
   ]
  },
  {
   "cell_type": "code",
   "execution_count": 2,
   "metadata": {
    "collapsed": true
   },
   "outputs": [],
   "source": [
    "#Method 1: grid real t, find p values using (6.50)\n",
    "def p_from_t(x, z, B, tmax):\n",
    "    R = np.sqrt(x**2+z**2)\n",
    "    t = np.linspace(R/B,tmax,1000)\n",
    "    p = (x*t + 1j*z*np.sqrt(t**2-(R/B)**2))/R**2\n",
    "    return p"
   ]
  },
  {
   "cell_type": "code",
   "execution_count": 3,
   "metadata": {
    "collapsed": false
   },
   "outputs": [
    {
     "name": "stdout",
     "output_type": "stream",
     "text": [
      "comp time:  0.0557191371918 s\n"
     ]
    },
    {
     "data": {
      "image/png": "[encoded data removed]",
      "text/plain": [
       "<matplotlib.figure.Figure at 0x7f38782d6f10>"
      ]
     },
     "metadata": {},
     "output_type": "display_data"
    }
   ],
   "source": [
    "ts = time.time()\n",
    "p1 = p_from_t(3,4,9,10)\n",
    "fig = plt.figure(figsize=(3, 3))\n",
    "ax = fig.add_subplot(1, 1, 1)\n",
    "ax.plot(p1.real,p1.imag)\n",
    "tf = time.time()-ts\n",
    "print \"comp time: \", tf, \"s\"\n",
    "ax.set_xlabel(\"Re p\")\n",
    "ax.set_ylabel(\"Im p\")\n",
    "plt.show()"
   ]
  },
  {
   "cell_type": "markdown",
   "metadata": {},
   "source": [
    "# Method 2\n",
    "\n",
    "Eq. (6.49) gives $t(p) = px + \\eta |z|$ and we know $\\eta = \\sqrt{\\beta^{-2}-p^2}$. Thus, $t = px+\\sqrt{\\beta^{-2}-p^2}|z|$.\n",
    "\n",
    "We can take $p = w+i y$ to find t in terms of Re p and Im P coordinates, which we can then grid and search. We know $p=\\frac{x}{R\\beta}$ at $t=\\frac R \\beta$. Start there and examine a small grid in the p plane to find the direction of max increasing real t."
   ]
  },
  {
   "cell_type": "code",
   "execution_count": 122,
   "metadata": {
    "collapsed": false
   },
   "outputs": [],
   "source": [
    "def t_from_p(x, z, B, tmax):\n",
    "    R = np.sqrt(x**2+z**2)\n",
    "    t = [R/B]\n",
    "    p = [x/(R*B)+0*1j]\n",
    "    \n",
    "    def t_func(p1):\n",
    "        return p1*x + np.sqrt(B**-2-p1**2)*z\n",
    "    \n",
    "    while t[-1] < tmax:\n",
    "#     step=0\n",
    "#     while step < steps:\n",
    "        w0 = p[-1].real\n",
    "        y0 = p[-1].imag\n",
    "        coords = []\n",
    "        for n in range(1,10):\n",
    "            for m in range(1,10):\n",
    "                w = w0 + n*.00001\n",
    "                y = y0 + m*.00001\n",
    "                coords.append((w,y))\n",
    "        tvals = [t_func(complex(*coord)) for coord in coords]\n",
    "#         tnew = max([tv for tv in tvals if (abs(tv.imag)-y0)<.15])\n",
    "        t_ind = np.argmax([abs(tv) for tv in tvals])\n",
    "#         t_ind = tvals.index(tnew)\n",
    "        t.append(abs(tvals[t_ind]))\n",
    "        p.append(complex(*coords[t_ind]))\n",
    "#         step+=1\n",
    "    \n",
    "    p0 = np.linspace(0,x/(R*B),250)\n",
    "    t[:0] = t_func(p0)\n",
    "    p[:0] = p0\n",
    "    \n",
    "    return t, np.array(p)"
   ]
  },
  {
   "cell_type": "code",
   "execution_count": 135,
   "metadata": {
    "collapsed": false
   },
   "outputs": [
    {
     "name": "stdout",
     "output_type": "stream",
     "text": [
      "comp time:  0.681168794632 s\n"
     ]
    },
    {
     "data": {
      "image/png": "[encoded data removed]",
      "text/plain": [
       "<matplotlib.figure.Figure at 0x7f97c2da4110>"
      ]
     },
     "metadata": {},
     "output_type": "display_data"
    }
   ],
   "source": [
    "ts = time.time()\n",
    "t2, p2 = t_from_p(3,6,9,2)\n",
    "fig, ax = plt.subplots(1, 2, figsize = (12, 5))\n",
    "# axs = [[0, 1], [0, 2]]\n",
    "ax[0].plot(p2.real,p2.imag)\n",
    "tf = time.time()-ts\n",
    "print \"comp time: \", tf, \"s\"\n",
    "ax[0].set_xlabel(\"Re p\")\n",
    "ax[0].set_ylabel(\"Im p\")\n",
    "ax[0].set_xlim(left=0)\n",
    "\n",
    "ax[1].plot(np.diff(p2)/(np.diff(t2)+.0000001))\n",
    "ax[1].set_xlim([200, 300])\n",
    "plt.show()"
   ]
  },
  {
   "cell_type": "code",
   "execution_count": 109,
   "metadata": {
    "collapsed": false
   },
   "outputs": [
    {
     "data": {
      "text/plain": [
       "2.0001533710656405"
      ]
     },
     "execution_count": 109,
     "metadata": {},
     "output_type": "execute_result"
    }
   ],
   "source": [
    "t2[-1]"
   ]
  },
  {
   "cell_type": "code",
   "execution_count": null,
   "metadata": {
    "collapsed": true
   },
   "outputs": [],
   "source": []
  }
 ],
 "metadata": {
  "kernelspec": {
   "display_name": "Python 2",
   "language": "python",
   "name": "python2"
  },
  "language_info": {
   "codemirror_mode": {
    "name": "ipython",
    "version": 2
   },
   "file_extension": ".py",
   "mimetype": "text/x-python",
   "name": "python",
   "nbconvert_exporter": "python",
   "pygments_lexer": "ipython2",
   "version": "2.7.11"
  }
 },
 "nbformat": 4,
 "nbformat_minor": 0
}
