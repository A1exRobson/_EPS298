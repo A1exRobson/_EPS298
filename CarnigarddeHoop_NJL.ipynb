{
 "cells": [
  {
   "cell_type": "code",
   "execution_count": 211,
   "metadata": {
    "collapsed": false
   },
   "outputs": [],
   "source": [
    "import numpy as np\n",
    "import matplotlib.pyplot as plt\n",
    "from scipy import interpolate"
   ]
  },
  {
   "cell_type": "code",
   "execution_count": 128,
   "metadata": {
    "collapsed": false
   },
   "outputs": [],
   "source": [
    "\n",
    "\n",
    "#npts=(pmax-pmin)/dpr\n",
    "# npts=5000 # for p mesh\n",
    "# nt=1000    # for time array\n",
    "# maxTime=1\n",
    "# time=np.linspace(0,maxTime,nt)\n",
    "# beta=3.5 # velocity\n",
    "# z=2.5     # vertical distance\n",
    "# x=1.2     # horizontal distance\n",
    "# R=np.sqrt(x**2+z**2) # ray length\n",
    "\n",
    "#print('What is value of R/Beta?\\n',r/beta, 'seconds')\n"
   ]
  },
  {
   "cell_type": "code",
   "execution_count": null,
   "metadata": {
    "collapsed": false
   },
   "outputs": [],
   "source": []
  },
  {
   "cell_type": "code",
   "execution_count": 59,
   "metadata": {
    "collapsed": false
   },
   "outputs": [],
   "source": [
    "def tic():\n",
    "    #Homemade version of matlab tic and toc functions\n",
    "    import time\n",
    "    global startTime_for_tictoc\n",
    "    startTime_for_tictoc = time.time()\n",
    "\n",
    "def toc():\n",
    "    import time\n",
    "    if 'startTime_for_tictoc' in globals():\n",
    "        print(\"Elapsed time is \" + str(time.time() - startTime_for_tictoc) + \" seconds.\")\n",
    "    else:\n",
    "        print(\"Toc: start time not set\")\n",
    "\n",
    "def cartesian(arrays, out=None):\n",
    "    \"\"\"\n",
    "    CREDIT: http://stackoverflow.com/questions/1208118/using-numpy-to-build-an-array-of-all-combinations-of-two-arrays\n",
    "    \n",
    "    Generate a cartesian product of input arrays.\n",
    "\n",
    "    Parameters\n",
    "    ----------\n",
    "    arrays : list of array-like\n",
    "        1-D arrays to form the cartesian product of.\n",
    "    out : ndarray\n",
    "        Array to place the cartesian product in.\n",
    "\n",
    "    Returns\n",
    "    -------\n",
    "    out : ndarray\n",
    "        2-D array of shape (M, len(arrays)) containing cartesian products\n",
    "        formed of input arrays.\n",
    "\n",
    "    Examples\n",
    "    --------\n",
    "    >>> cartesian(([1, 2, 3], [4, 5], [6, 7]))\n",
    "    array([[1, 4, 6],\n",
    "           [1, 4, 7],\n",
    "           [1, 5, 6],\n",
    "           [1, 5, 7],\n",
    "           [2, 4, 6],\n",
    "           [2, 4, 7],\n",
    "           [2, 5, 6],\n",
    "           [2, 5, 7],\n",
    "           [3, 4, 6],\n",
    "           [3, 4, 7],\n",
    "           [3, 5, 6],\n",
    "           [3, 5, 7]])\n",
    "\n",
    "    \"\"\"\n",
    "\n",
    "    arrays = [np.asarray(x) for x in arrays]\n",
    "    dtype = arrays[0].dtype\n",
    "\n",
    "    n = np.prod([x.size for x in arrays])\n",
    "    if out is None:\n",
    "        out = np.zeros([n, len(arrays)], dtype=dtype)\n",
    "\n",
    "    m = n / arrays[0].size\n",
    "    out[:,0] = np.repeat(arrays[0], m)\n",
    "    if arrays[1:]:\n",
    "        cartesian(arrays[1:], out=out[0:m,1:])\n",
    "        for j in range(1, arrays[0].size):\n",
    "            out[j*m:(j+1)*m,1:] = out[0:m,1:]\n",
    "    return out\n"
   ]
  },
  {
   "cell_type": "code",
   "execution_count": 238,
   "metadata": {
    "collapsed": false
   },
   "outputs": [
    {
     "name": "stdout",
     "output_type": "stream",
     "text": [
      "Elapsed time is 0.5198349952697754 seconds.\n"
     ]
    },
    {
     "data": {
      "text/plain": [
       "[<matplotlib.lines.Line2D at 0x10fd210f0>]"
      ]
     },
     "execution_count": 238,
     "metadata": {},
     "output_type": "execute_result"
    },
    {
     "data": {
      "image/png": "[encoded data removed]",
      "text/plain": [
       "<matplotlib.figure.Figure at 0x10f8960f0>"
      ]
     },
     "metadata": {},
     "output_type": "display_data"
    },
    {
     "data": {
      "image/png": "[encoded data removed]",
      "text/plain": [
       "<matplotlib.figure.Figure at 0x10fcfff60>"
      ]
     },
     "metadata": {},
     "output_type": "display_data"
    }
   ],
   "source": [
    "#####DOUG's way\n",
    "\n",
    "#User inputs \n",
    "r=100.;\n",
    "z=30.;\n",
    "h=8;\n",
    "beta0=2.5;\n",
    "rho0=2.0;\n",
    "beta=3.5;\n",
    "rho=2.7;\n",
    "mu0=(beta0*1.e05)**2*rho0;\n",
    "mu=(beta*1.e05)**2*rho;\n",
    "\n",
    "dt=0.01;\n",
    "dpr=0.0001;\n",
    "dpi=0.0001;\n",
    "pmin=0.25;\n",
    "pmax=0.45;\n",
    "tres=0.0002;\n",
    "\n",
    "tic() #start the clock\n",
    "\n",
    "# generate an empty grid search domain for complex p\n",
    "tmp1=np.arange(pmin,pmax+dpr,dpr)\n",
    "tmp2=np.arange(0,pmax-pmin+dpi,dpi)\n",
    "nn1=len(tmp1)\n",
    "nn2=len(tmp2)\n",
    "preal=np.tile(tmp1, [nn2,1]);\n",
    "pimag=np.tile(tmp2, [nn1,1]);\n",
    "p=preal + 1j*(pimag).T;\n",
    "\n",
    "#calc t vector from p\n",
    "t=p*r+(z-h)*np.sqrt(1/beta0**2-p**2) + (z)*np.sqrt(1/beta0**2-p**2);\n",
    "\n",
    "\n",
    "# grid search for indicies of t that real\n",
    "[k, l]=np.where(abs(np.imag(t)) < tres); \n",
    "#\n",
    "tt=[]\n",
    "pp=[]\n",
    "cnt=0\n",
    "for J in range(0,len(k)):\n",
    "    if J==0:\n",
    "        tt.append(np.real(t[k[J],l[J]]))\n",
    "        pp.append(p[k[J],l[J]])\n",
    "        cnt+=1\n",
    "    elif np.real(t[k[J],l[J]]) > tt[cnt-1]:\n",
    "        tt.append(np.real(t[k[J],l[J]]));\n",
    "        pp.append(p[k[J],l[J]]);\n",
    "        cnt+=1\n",
    "\n",
    "toc() #stop the clock\n",
    "\n",
    "#plot contour integration in p domain\n",
    "plt.figure()\n",
    "plt.plot(np.real(pp),np.imag(pp),'o')\n",
    "\n",
    "#interpolate p(t) to regular t increment \n",
    "f=interpolate.interp1d(tt,pp);\n",
    "xi=np.arange(tt[0],tt[cnt-1],dt);\n",
    "yi = f(xi)\n",
    "\n",
    "#  plot dp(t)/dt --> displacement potential --> seismogram\n",
    "plt.figure()\n",
    "dpdt=np.diff(yi)/0.01;\n",
    "u=np.imag(dpdt*yi[:-1]**1.5/np.sqrt(1/beta0**2-yi[:-1]**2));\n",
    "plt.plot(xi[:-1],u)\n",
    "\n",
    "# Refection coefficient\n",
    "R=(mu0*np.sqrt(1/beta0**2-yi[:-1]**2)-mu*np.sqrt(1/beta**2-yi[:-1]**2)\n",
    "  )/(mu0*np.sqrt(1/beta0**2-yi[:-1]**2)+mu*np.sqrt(1/beta**2-yi[:-1]**2));\n",
    "u2=np.imag(R*dpdt*yi[:-1]**1.5/np.sqrt(1/beta0**2-yi[:-1]**2));\n",
    "\n",
    "plt.plot(xi[:-1],-1*u2)\n"
   ]
  },
  {
   "cell_type": "code",
   "execution_count": 338,
   "metadata": {
    "collapsed": false
   },
   "outputs": [
    {
     "name": "stdout",
     "output_type": "stream",
     "text": [
      "[ 0.25    0.2501  0.2502 ...,  0.4498  0.4499  0.45  ]\n",
      "Elapsed time is 0.0016012191772460938 seconds.\n"
     ]
    },
    {
     "name": "stderr",
     "output_type": "stream",
     "text": [
      "/Applications/anaconda/lib/python3.5/site-packages/ipykernel/__main__.py:29: RuntimeWarning: invalid value encountered in sqrt\n"
     ]
    },
    {
     "data": {
      "text/plain": [
       "[<matplotlib.lines.Line2D at 0x113bb1cc0>]"
      ]
     },
     "execution_count": 338,
     "metadata": {},
     "output_type": "execute_result"
    },
    {
     "data": {
      "image/png": "[encoded data removed]",
      "text/plain": [
       "<matplotlib.figure.Figure at 0x1124fc1d0>"
      ]
     },
     "metadata": {},
     "output_type": "display_data"
    }
   ],
   "source": [
    "#####JES's way\n",
    "\n",
    "#User inputs \n",
    "r=100.;\n",
    "z=30.;\n",
    "h=8;\n",
    "beta0=2.5;\n",
    "rho0=2.0;\n",
    "beta=3.5;\n",
    "rho=2.7;\n",
    "mu0=(beta0*1.e05)**2*rho0;\n",
    "mu=(beta*1.e05)**2*rho;\n",
    "\n",
    "dt=0.01;\n",
    "dpr=0.0001;\n",
    "dpi=0.0001;\n",
    "pmin=0.25;\n",
    "pmax=0.45;\n",
    "tres=0.0002;\n",
    "\n",
    "tic() #start the clock\n",
    "\n",
    "# \n",
    "p_real=np.arange(pmin,pmax+dpr,dpr)\n",
    "print(p_real)\n",
    "\n",
    "t=np.arange(0,(len(p))*dt,dt)\n",
    "\n",
    "p_imag=t[:-1]-((z-h)*np.sqrt(1/beta0**2-p_real**2))+(z*np.sqrt(1/beta0**2-p_real**2));\n",
    "#p_imag[0:1000]=0\n",
    "\n",
    "toc()\n",
    "\n",
    "#plot contour integration in p domain\n",
    "plt.figure()\n",
    "plt.plot(p_real,p_imag,'o')"
   ]
  },
  {
   "cell_type": "code",
   "execution_count": null,
   "metadata": {
    "collapsed": false
   },
   "outputs": [],
   "source": []
  },
  {
   "cell_type": "code",
   "execution_count": null,
   "metadata": {
    "collapsed": false
   },
   "outputs": [],
   "source": []
  },
  {
   "cell_type": "code",
   "execution_count": null,
   "metadata": {
    "collapsed": false
   },
   "outputs": [],
   "source": []
  },
  {
   "cell_type": "code",
   "execution_count": null,
   "metadata": {
    "collapsed": true
   },
   "outputs": [],
   "source": []
  },
  {
   "cell_type": "code",
   "execution_count": null,
   "metadata": {
    "collapsed": true
   },
   "outputs": [],
   "source": []
  },
  {
   "cell_type": "code",
   "execution_count": null,
   "metadata": {
    "collapsed": false
   },
   "outputs": [],
   "source": [
    "\n"
   ]
  },
  {
   "cell_type": "code",
   "execution_count": null,
   "metadata": {
    "collapsed": true
   },
   "outputs": [],
   "source": []
  },
  {
   "cell_type": "code",
   "execution_count": null,
   "metadata": {
    "collapsed": false
   },
   "outputs": [],
   "source": [
    "        "
   ]
  },
  {
   "cell_type": "code",
   "execution_count": null,
   "metadata": {
    "collapsed": false
   },
   "outputs": [],
   "source": []
  },
  {
   "cell_type": "code",
   "execution_count": null,
   "metadata": {
    "collapsed": true
   },
   "outputs": [],
   "source": []
  }
 ],
 "metadata": {
  "anaconda-cloud": {},
  "kernelspec": {
   "display_name": "Python [Root]",
   "language": "python",
   "name": "Python [Root]"
  },
  "language_info": {
   "codemirror_mode": {
    "name": "ipython",
    "version": 3
   },
   "file_extension": ".py",
   "mimetype": "text/x-python",
   "name": "python",
   "nbconvert_exporter": "python",
   "pygments_lexer": "ipython3",
   "version": "3.5.0rc4"
  }
 },
 "nbformat": 4,
 "nbformat_minor": 0
}
