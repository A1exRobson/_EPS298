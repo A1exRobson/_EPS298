{
 "cells": [
  {
   "cell_type": "markdown",
   "metadata": {},
   "source": [
    "# Cagniard de Hoop Program\n"
   ]
  },
  {
   "cell_type": "markdown",
   "metadata": {},
   "source": [
    "### Summary\n",
    "Program to interactively calculate the simplest rays using Generalized Ray Theory (Aki & Richards, Chapter 6). \n",
    "\n",
    "### Approach\n",
    "The search for the time series recorded at a surface receiver given a source buried at some depth (h) at a horizontal distance (r) is done by first generating the complex ray parameter plane, and then searching for the values of p(t) that make t(p) real and increasing. This search could be accelearted by strategically restricting the step in p(t). As t(p) is based on equal steps in p(t), we will interpolate the result to achieve a regular time series. The displacement potnetial is calculated as dp/dt. \n",
    "\n",
    "In practice, we first consider the direct arrival. We then consider the single reflection case, and look at the result of the branch cut in the p-plane (i.e., a head wave). Next, we consider the single transmission case in which the source is below the first horizontal interface. Then we consider multiples. We look at the arrival times of each ray, and the superposition of all rays.\n",
    "\n",
    "To calculate a ray arrival as the rays become more complicated requires:\n",
    "\n",
    "1) consideration of the t(p) equation. The simplest direct ray time equation is t=pr+h*np.sqrt(1/beta^2 - p^2). To determine t for the more complicated cases, requires thinking about the additional contribution to the vertical slowness due to the new \"leg\". Horizontal slowness is unchanged (p * r). The contribution to the vertical slowness for each \"leg\" can be separated into the vertical slowness for each layer of the leg -- the vertical slowness layer contribution is the (vertical distance traveled in the layer)  x  [ 1/(layer velocity)^2 - p^2].\n",
    "\n",
    "2) consideration of the impact to the integrand of the displacement potential, which means simply multiplying by the train of reflection and transmission coefficients.\n",
    "\n",
    "### Geometry conventions\n",
    "+z down convention. \n",
    "\n",
    "The layers are labeled by the interface above the layer. For example, the first layer (\"layer 0\") is defined by the surface, which we call \"interface 0\". \n",
    "\n",
    "z1 is the depth from the surface to interface 1. z4 is the depth from the surface to interface 4.\n",
    "\n",
    "h is the depth from the surface to the source depth.\n",
    "\n",
    "r is the horizontal offset from source to receiver.\n",
    "\n",
    "We label rays using the source layer they originate in followed by any interface reflections and transmissions. For example, the direct wave is called \"S0\". he ray for a single reflection is called \"S0R1\". The ray for a single transmission is called \"S1T1\". The ray for a source in layer 3 that bounces once at the surface, and then reflects off of interface 1 is called \"S3T3T2T1R0R1\".\n",
    "\n",
    "Ray parameter is defined by the angle made with the vertical."
   ]
  },
  {
   "cell_type": "markdown",
   "metadata": {},
   "source": [
    "## LOAD/DEFINE FUNCTIONS"
   ]
  },
  {
   "cell_type": "code",
   "execution_count": 406,
   "metadata": {
    "collapsed": false
   },
   "outputs": [],
   "source": [
    "import numpy as np\n",
    "import matplotlib.pyplot as plt\n",
    "from scipy import interpolate\n",
    "\n",
    "def tic():\n",
    "    #Homemade version of matlab tic and toc functions\n",
    "    import time\n",
    "    global startTime_for_tictoc\n",
    "    startTime_for_tictoc = time.time()\n",
    "\n",
    "def toc():\n",
    "    import time\n",
    "    if 'startTime_for_tictoc' in globals():\n",
    "        print(\"Elapsed time is \" + str(time.time() - startTime_for_tictoc) + \" seconds.\")\n",
    "    else:\n",
    "        print(\"Toc: start time not set\")"
   ]
  },
  {
   "cell_type": "markdown",
   "metadata": {},
   "source": [
    "## USER DEFINED"
   ]
  },
  {
   "cell_type": "markdown",
   "metadata": {},
   "source": [
    "Geometry:"
   ]
  },
  {
   "cell_type": "code",
   "execution_count": 407,
   "metadata": {
    "collapsed": false
   },
   "outputs": [],
   "source": [
    "r=100.; # Horizontal distance\n",
    "z1=30.; # Depth to first interface\n",
    "z1=45.; # Depth to first interface\n",
    "h=12; # Depth of source\n",
    "R=np.sqrt(r**2+h**2); # Length of direct ray"
   ]
  },
  {
   "cell_type": "markdown",
   "metadata": {},
   "source": [
    "Layer 0 (below interface 0):"
   ]
  },
  {
   "cell_type": "code",
   "execution_count": 408,
   "metadata": {
    "collapsed": true
   },
   "outputs": [],
   "source": [
    "beta0=2.5; # Velocity of first layer [km/s]\n",
    "rho0=2.0; # Density of first layer [kg/m^3]\n",
    "mu0=(beta0*1.e05)**2*rho0;"
   ]
  },
  {
   "cell_type": "markdown",
   "metadata": {},
   "source": [
    "Layer 1 (below interface 1):"
   ]
  },
  {
   "cell_type": "code",
   "execution_count": 409,
   "metadata": {
    "collapsed": true
   },
   "outputs": [],
   "source": [
    "beta1=6; # Velocity of second layer [km/s]\n",
    "rho1=2.7; # Density of second layer [kg/m^3]\n",
    "mu1=(beta1*1.e05)**2*rho1;"
   ]
  },
  {
   "cell_type": "markdown",
   "metadata": {},
   "source": [
    "model parameterisation:"
   ]
  },
  {
   "cell_type": "code",
   "execution_count": 410,
   "metadata": {
    "collapsed": true
   },
   "outputs": [],
   "source": [
    "dt=0.01;\n",
    "dpr=0.0001;\n",
    "dpi=0.0001;\n",
    "pmin=0.0;\n",
    "pmax=0.8;\n",
    "tres=0.0002;"
   ]
  },
  {
   "cell_type": "markdown",
   "metadata": {},
   "source": [
    "## Method #1: BRUTE-FORCE FULL p GRID SEARCH"
   ]
  },
  {
   "cell_type": "markdown",
   "metadata": {},
   "source": [
    "Generate an empty grid search domain for full complex p"
   ]
  },
  {
   "cell_type": "code",
   "execution_count": 411,
   "metadata": {
    "collapsed": false
   },
   "outputs": [
    {
     "name": "stdout",
     "output_type": "stream",
     "text": [
      "Elapsed time is 3.5073659420013428 seconds.\n"
     ]
    }
   ],
   "source": [
    "tic() #start the clock\n",
    "tmp1=np.arange(pmin,pmax+dpr,dpr)\n",
    "tmp2=np.arange(0,pmax-pmin+dpi,dpi)\n",
    "nn1=len(tmp1)\n",
    "nn2=len(tmp2)\n",
    "preal=np.tile(tmp1, [nn2,1]);\n",
    "pimag=np.tile(tmp2, [nn1,1]);\n",
    "p=preal + 1j*(pimag).T;\n",
    "toc()"
   ]
  },
  {
   "cell_type": "markdown",
   "metadata": {},
   "source": [
    "#### DIRECT WAVE (S0)\n",
    "Calc t vector from p(t) and search for where t is real and increasing  "
   ]
  },
  {
   "cell_type": "code",
   "execution_count": 412,
   "metadata": {
    "collapsed": false
   },
   "outputs": [
    {
     "name": "stdout",
     "output_type": "stream",
     "text": [
      "Elapsed time is 5.5144219398498535 seconds.\n"
     ]
    }
   ],
   "source": [
    "# Calc t\n",
    "tic()\n",
    "t=p*r+np.sqrt(1/beta0**2-p**2)*h;\n",
    "\n",
    "# Search\n",
    "[k, l]=np.where(abs(np.imag(t)) < tres); \n",
    "tt=[]\n",
    "pp=[]\n",
    "cnt=0\n",
    "for J in range(0,len(k)):\n",
    "    if J==0:\n",
    "        tt.append(np.real(t[k[J],l[J]]))\n",
    "        pp.append(p[k[J],l[J]])\n",
    "        cnt+=1\n",
    "    elif np.real(t[k[J],l[J]]) > tt[cnt-1]:\n",
    "        tt.append(np.real(t[k[J],l[J]]));\n",
    "        pp.append(p[k[J],l[J]]);\n",
    "        cnt+=1\n",
    "tt_S0=tt;\n",
    "pp_S0=pp;\n",
    "del k,l,tt,pp\n",
    "\n",
    "# Interpolate to p(t) even t steps\n",
    "f=interpolate.interp1d(tt_S0,pp_S0);\n",
    "xi_S0=np.arange(tt_S0[0],tt_S0[cnt-1],dt);\n",
    "yi = f(xi_S0)\n",
    "\n",
    "# Calcualte displacement potential for direct ray\n",
    "dpdt_S0=np.diff(yi)/0.01;\n",
    "u_S0=np.imag(dpdt_S0*yi[:-1]**1.5/np.sqrt(1/beta0**2-yi[:-1]**2));\n",
    "\n",
    "# Check arrival time independently from geometry input \n",
    "Ta_S0=(r**2/(R*beta0))+(h**2/(R*beta0));\n",
    "\n",
    "toc() #stop the clock\n",
    "del cnt,yi\n"
   ]
  },
  {
   "cell_type": "markdown",
   "metadata": {},
   "source": [
    "#### SINGLE DOWNGOING REFLECTION (S0R1)\n",
    "Calc t vector from p(t) and search for where t is real and increasing  "
   ]
  },
  {
   "cell_type": "code",
   "execution_count": 413,
   "metadata": {
    "collapsed": false
   },
   "outputs": [
    {
     "name": "stdout",
     "output_type": "stream",
     "text": [
      "Elapsed time is 9.48779010772705 seconds.\n"
     ]
    }
   ],
   "source": [
    "# Calc t\n",
    "tic()\n",
    "t=p*r+(z1-h)*np.sqrt(1/beta0**2-p**2) + (z1)*np.sqrt(1/beta0**2-p**2);\n",
    "\n",
    "# Search\n",
    "[k, l]=np.where(abs(np.imag(t)) < tres); \n",
    "tt=[]\n",
    "pp=[]\n",
    "cnt=0\n",
    "for J in range(0,len(k)):\n",
    "    if J==0:\n",
    "        tt.append(np.real(t[k[J],l[J]]))\n",
    "        pp.append(p[k[J],l[J]])\n",
    "        cnt+=1\n",
    "    elif np.real(t[k[J],l[J]]) > tt[cnt-1]:\n",
    "        tt.append(np.real(t[k[J],l[J]]));\n",
    "        pp.append(p[k[J],l[J]]);\n",
    "        cnt+=1\n",
    "tt_S0R1=tt;\n",
    "pp_S0R1=pp;\n",
    "del k,l,tt,pp\n",
    "\n",
    "# Interpolate p(t) to even t steps\n",
    "f=interpolate.interp1d(tt_S0R1,pp_S0R1);\n",
    "xi_S0R1=np.arange(tt_S0R1[0],tt_S0R1[cnt-1],dt);\n",
    "yi = f(xi_S0R1)\n",
    "\n",
    "# Refection coefficient\n",
    "R1 = (mu0*np.sqrt(1/beta0**2-yi[:-1]**2) - mu1*np.sqrt(1/beta1**2-yi[:-1]**2))/(mu0*np.sqrt(1/beta0**2-yi[:-1]**2) + mu1*np.sqrt(1/beta1**2-yi[:-1]**2));\n",
    "    \n",
    "# Calcualte displacement potential for single reflection\n",
    "dpdt_S0R1=np.diff(yi)/0.01;\n",
    "u_S0R1=np.imag(dpdt_S0R1 * yi[:-1]**1.5 / np.sqrt(1/beta0**2-yi[:-1]**2) * R1);\n",
    "\n",
    "# Check arrival time\n",
    "Ta_S0R1=(r**2/(R*beta0))+(h**2/(R*beta0));\n",
    "\n",
    "toc() #stop the clock\n",
    "del cnt,yi"
   ]
  },
  {
   "cell_type": "markdown",
   "metadata": {},
   "source": [
    "#### SINGLE UPGOING TRANSMISSION (S1T1)\n",
    "Calc t vector from p(t) and search for where t is real and increasing  "
   ]
  },
  {
   "cell_type": "code",
   "execution_count": 414,
   "metadata": {
    "collapsed": false
   },
   "outputs": [
    {
     "name": "stdout",
     "output_type": "stream",
     "text": [
      "Elapsed time is 9.024744033813477 seconds.\n"
     ]
    }
   ],
   "source": [
    "# Calc t\n",
    "tic()\n",
    "t=p*r+(h-z1)*np.sqrt(1/beta1**2-p**2) + (z1)*np.sqrt(1/beta0**2-p**2);\n",
    "\n",
    "# Search\n",
    "[k, l]=np.where(abs(np.imag(t)) < tres); \n",
    "tt=[]\n",
    "pp=[]\n",
    "cnt=0\n",
    "for J in range(0,len(k)):\n",
    "    if J==0:\n",
    "        tt.append(np.real(t[k[J],l[J]]))\n",
    "        pp.append(p[k[J],l[J]])\n",
    "        cnt+=1\n",
    "    elif np.real(t[k[J],l[J]]) > tt[cnt-1]:\n",
    "        tt.append(np.real(t[k[J],l[J]]));\n",
    "        pp.append(p[k[J],l[J]]);\n",
    "        cnt+=1\n",
    "tt_S1T1=tt;\n",
    "pp_S1T1=pp;\n",
    "del k,l,tt,pp\n",
    "\n",
    "# Interpolate p(t) to even t steps\n",
    "f=interpolate.interp1d(tt_S1T1,pp_S1T1);\n",
    "xi_S1T1=np.arange(tt_S1T1[0],tt_S1T1[cnt-1],dt);\n",
    "yi = f(xi_S1T1)\n",
    "\n",
    "# Transmission coefficient (from below)\n",
    "T1 = 2*(mu1*np.sqrt(1/beta1**2-yi[:-1]**2)) / (mu1*np.sqrt(1/beta1**2-yi[:-1]**2) + mu0*np.sqrt(1/beta0**2-yi[:-1]**2));\n",
    "    \n",
    "# Calcualte displacement potential for single reflection\n",
    "dpdt_S1T1=np.diff(yi)/0.01;\n",
    "u_S1T1=np.imag(dpdt_S1T1 * yi[:-1]**1.5 / np.sqrt(1/beta0**2-yi[:-1]**2) * T1);\n",
    "\n",
    "# Check arrival time\n",
    "Ta_S1T1=(r**2/(R*beta0))+(h**2/(R*beta0));\n",
    "\n",
    "toc() #stop the clock\n",
    "del cnt,yi"
   ]
  },
  {
   "cell_type": "markdown",
   "metadata": {},
   "source": [
    "#### SINGLE MULTIPLE (S0R0R1)\n",
    "Calc t vector from p(t) and search for where t is real and increasing  "
   ]
  },
  {
   "cell_type": "code",
   "execution_count": 415,
   "metadata": {
    "collapsed": false
   },
   "outputs": [
    {
     "name": "stdout",
     "output_type": "stream",
     "text": [
      "Elapsed time is 9.105830907821655 seconds.\n"
     ]
    }
   ],
   "source": [
    "# Calc t\n",
    "tic()\n",
    "t=p*r+(h)*np.sqrt(1/beta1**2-p**2) + 2*(z1)*np.sqrt(1/beta0**2-p**2);\n",
    "\n",
    "# Search\n",
    "[k, l]=np.where(abs(np.imag(t)) < tres); \n",
    "tt=[]\n",
    "pp=[]\n",
    "cnt=0\n",
    "for J in range(0,len(k)):\n",
    "    if J==0:\n",
    "        tt.append(np.real(t[k[J],l[J]]))\n",
    "        pp.append(p[k[J],l[J]])\n",
    "        cnt+=1\n",
    "    elif np.real(t[k[J],l[J]]) > tt[cnt-1]:\n",
    "        tt.append(np.real(t[k[J],l[J]]));\n",
    "        pp.append(p[k[J],l[J]]);\n",
    "        cnt+=1\n",
    "tt_S0R0R1=tt;\n",
    "pp_S0R0R1=pp;\n",
    "del k,l,tt,pp\n",
    "\n",
    "# Interpolate p(t) to even t steps\n",
    "f=interpolate.interp1d(tt_S0R0R1,pp_S0R0R1);\n",
    "xi_S0R0R1=np.arange(tt_S0R0R1[0],tt_S0R0R1[cnt-1],dt);\n",
    "yi = f(xi_S0R0R1)\n",
    "\n",
    "# Refection coefficients\n",
    "R0 = 1;\n",
    "R1 = (mu0*np.sqrt(1/beta0**2-yi[:-1]**2) - mu1*np.sqrt(1/beta1**2-yi[:-1]**2))/(mu0*np.sqrt(1/beta0**2-yi[:-1]**2) + mu1*np.sqrt(1/beta1**2-yi[:-1]**2));\n",
    "    \n",
    "# Calcualte displacement potential for single multiple\n",
    "dpdt_S0R0R1=np.diff(yi)/0.01;\n",
    "u_S0R0R1=np.imag(dpdt_S0R0R1 * yi[:-1]**1.5 / np.sqrt(1/beta0**2-yi[:-1]**2) * R0 * R1);\n",
    "\n",
    "# Check arrival time\n",
    "Ta_S0R0R1=(r**2/(R*beta0))+(h**2/(R*beta0));\n",
    "\n",
    "toc() #stop the clock\n",
    "del cnt,yi"
   ]
  },
  {
   "cell_type": "markdown",
   "metadata": {},
   "source": []
  },
  {
   "cell_type": "code",
   "execution_count": null,
   "metadata": {
    "collapsed": false
   },
   "outputs": [],
   "source": []
  },
  {
   "cell_type": "markdown",
   "metadata": {},
   "source": [
    "# plotting\n",
    "Plot p(t) and dp/dt for each ray. Interpolate p(t) to evenly-step in t before taking the derivative, which is the displacement potential."
   ]
  },
  {
   "cell_type": "code",
   "execution_count": 416,
   "metadata": {
    "collapsed": false,
    "scrolled": true
   },
   "outputs": [
    {
     "data": {
      "text/plain": [
       "<matplotlib.figure.Figure at 0x10e9837f0>"
      ]
     },
     "metadata": {},
     "output_type": "display_data"
    },
    {
     "data": {
      "image/png": "[encoded data removed]",
      "text/plain": [
       "<matplotlib.figure.Figure at 0x12981b668>"
      ]
     },
     "metadata": {},
     "output_type": "display_data"
    },
    {
     "data": {
      "text/plain": [
       "<matplotlib.figure.Figure at 0x1120a9eb8>"
      ]
     },
     "metadata": {},
     "output_type": "display_data"
    },
    {
     "data": {
      "text/plain": [
       "<matplotlib.figure.Figure at 0x112074a20>"
      ]
     },
     "metadata": {},
     "output_type": "display_data"
    }
   ],
   "source": [
    "def annotateAxis(ax,r,z,h,beta0,beta1,Ta,x,u):\n",
    "    ax.annotate('   r      =  %s km' % str(np.round(r,4)), xy=(60,max(u)*.9))\n",
    "    ax.annotate('   z      = %s km' % str(np.round(z,4)), xy=(60,max(u)*.8))\n",
    "    ax.annotate('   h     =  %s km' % str(np.round(h,4)), xy=(60,max(u)*.7))\n",
    "    ax.annotate('beta0 =  %s km/s' % str(np.round(beta0,4)), xy=(60,max(u)*.6))\n",
    "    ax.annotate('beta1 =  %s km/s' % str(np.round(beta1,4)), xy=(60,max(u)*.5))\n",
    "    #ax.annotate('arrival time = %s s' % str(np.round(Ta,4)),xy=(55,max(u)*.4))\n",
    "    return ax\n",
    "\n",
    "# S0\n",
    "plt.figure()\n",
    "fig,ax=plt.subplots(3,2,figsize=(12,10))\n",
    "ax[0,0].plot(np.real(pp_S0),np.imag(pp_S0),'bo')\n",
    "ax[0,0].set_title('p(t) -- Direct Wave')\n",
    "ax[0,1].plot(xi_S0[:-1],u_S0,'b-')\n",
    "ax[0,1]=annotateAxis(ax[0,1],r,z,h,beta0,beta1,Ta_S0,xi_S0,u_S0)\n",
    "ax[0,1].set_title('dp/dt -- Direct Wave')\n",
    "ax[0,1].set_xlim([0,100])\n",
    "ax[0,0].set_ylabel('Im{p(t)}')\n",
    "ax[0,0].set_xlabel('Re{p(t)}')\n",
    "ax[0,1].set_ylabel('Displacement (cm)')\n",
    "ax[0,1].set_xlabel('Time (sec.)')\n",
    "\n",
    "# S0R1\n",
    "plt.figure()\n",
    "ax[1,0].plot(np.real(pp_S0R1),np.imag(pp_S0R1),'go')\n",
    "ax[1,0].set_title('p(t) -- Downgoing Reflection')\n",
    "ax[1,1].plot(xi_S0R1[:-1],-1*u_S0R1,'g-')\n",
    "#ax[1,1]=annotateAxis(ax[1,1],r,z,h,beta0,beta1,Ta_S0R1,xi_S0R1,u_S0/1.5)\n",
    "ax[1,1].set_title('dp/dt -- Downgoing Reflection')\n",
    "ax[1,1].set_xlim([0,100])\n",
    "ax[1,0].set_ylabel('Im{p(t)}')\n",
    "ax[1,0].set_xlabel('Re{p(t)}')\n",
    "ax[1,1].set_ylabel('Displacement (cm)')\n",
    "ax[1,1].set_xlabel('Time (sec.)')\n",
    "\n",
    "# # S1T1\n",
    "# plt.figure()\n",
    "# ax[2,0].plot(np.real(pp_S1T1),np.imag(pp_S1T1),'ro')\n",
    "# ax[2,0].set_title('p(t) -- Upgoing Transmission')\n",
    "# ax[2,1].plot(xi_S1T1[:-1],-1*u_S1T1,'r-')\n",
    "# ax[2,1]=annotateAxis(ax[2,1],r,z,h,beta0,beta1,Ta_S1T1,xi_S0,u_S0)\n",
    "# ax[2,1].set_title('dp/dt -- Upgoing Transmission')\n",
    "# ax[2,1].set_xlim([0,100])\n",
    "\n",
    "# S1R0R1\n",
    "plt.figure()\n",
    "ax[2,0].plot(np.real(pp_S0R0R1),np.imag(pp_S0R0R1),'ro')\n",
    "ax[2,0].set_title('p(t) -- Multiple in upper layer')\n",
    "ax[2,1].plot(xi_S0R0R1[:-1],-1*u_S0R0R1,'r-')\n",
    "ax[2,1]=annotateAxis(ax[2,1],r,z,h,beta0,beta1,Ta_S0R0R1,xi_S0,u_S0)\n",
    "ax[2,1].set_title('dp/dt -- Multiple in upper layer')\n",
    "ax[2,1].set_xlim([0,100])\n",
    "ax[2,0].set_ylabel('Im{p(t)}')\n",
    "ax[2,0].set_xlabel('Re{p(t)}')\n",
    "ax[2,1].set_ylabel('Displacement (cm)')\n",
    "ax[2,1].set_xlabel('Time (sec.)')\n",
    "\n",
    "fig.tight_layout()"
   ]
  }
 ],
 "metadata": {
  "anaconda-cloud": {},
  "kernelspec": {
   "display_name": "Python [Root]",
   "language": "python",
   "name": "Python [Root]"
  },
  "language_info": {
   "codemirror_mode": {
    "name": "ipython",
    "version": 3
   },
   "file_extension": ".py",
   "mimetype": "text/x-python",
   "name": "python",
   "nbconvert_exporter": "python",
   "pygments_lexer": "ipython3",
   "version": "3.5.0rc4"
  }
 },
 "nbformat": 4,
 "nbformat_minor": 0
}
